{
 "cells": [
  {
   "cell_type": "markdown",
   "metadata": {},
   "source": [
    "### Air Pollution Study Using EPA Data\n",
    "\n",
    "The study below looks at air quality in the U.S. between 2004 and 2014 using selected data from the EPA, available at http://aqsdr1.epa.gov/aqsweb/aqstmp/airdata/download_files.html. Specifically, we look at PM 2.5 data, which refers to particulate matter less than or equal to 2.5 microns in size, also called fine particle pollution.\n",
    "\n",
    "The goal is to see how pollution levels have changed during the period of interest, both nationwide and for individual states.\n"
   ]
  },
  {
   "cell_type": "code",
   "execution_count": 15,
   "metadata": {
    "collapsed": false
   },
   "outputs": [],
   "source": [
    "import numpy as np\n",
    "import pandas as pd\n",
    "\n",
    "# For 2004, starting at row 150656, the State Code switches from an integer to 'CC', \n",
    "# indicating Canada, so we need to skip those. For both years, we'll parse the\n",
    "# dates, which are at column 11.\n",
    "skip = range(150656, 150771)\n",
    "data2004 = pd.read_csv('Data/daily_88101_2004.csv', skiprows=skip, parse_dates=[11])\n",
    "data2014 = pd.read_csv('Data/daily_88101_2014.csv', parse_dates=[11])"
   ]
  },
  {
   "cell_type": "code",
   "execution_count": 30,
   "metadata": {
    "collapsed": false
   },
   "outputs": [],
   "source": [
    "# Create subsets of the data, with just the columns we care about.\n",
    "d2004 = data2004.loc[:, ['State Code','County Code','Site Num','Latitude','Longitude','Date Local', \\\n",
    "                 'AQI','State Name','County Name', 'City Name']]\n",
    "d2014 = data2014.loc[:, ['State Code','County Code','Site Num','Latitude','Longitude','Date Local', \\\n",
    "                 'AQI','State Name','County Name', 'City Name']]"
   ]
  },
  {
   "cell_type": "markdown",
   "metadata": {},
   "source": [
    "The feature we are most interested in is the Air Quality Index (AQI), recorded as an integer that ranges from 0 to greater than 300, measured in micrograms per cubic meter. Here is how the EPA defines the air quality for ranges of AQI:\n",
    "- 0–50: \"Good\"\n",
    "- 51–100: \"Moderate\"\n",
    "- 101–150: \"Unhealthy for Sensitive Groups\"\n",
    "- 151–200: \"Unhealthy\"\n",
    "- 201–300: \"Very Unhealthy\"\n",
    "- Above 300: \"Hazardous\"\n"
   ]
  },
  {
   "cell_type": "code",
   "execution_count": 36,
   "metadata": {
    "collapsed": false
   },
   "outputs": [
    {
     "data": {
      "text/html": [
       "<div style=\"max-height:1000px;max-width:1500px;overflow:auto;\">\n",
       "<table border=\"1\" class=\"dataframe\">\n",
       "  <thead>\n",
       "    <tr style=\"text-align: right;\">\n",
       "      <th></th>\n",
       "      <th>min</th>\n",
       "      <th>max</th>\n",
       "      <th>mean</th>\n",
       "    </tr>\n",
       "  </thead>\n",
       "  <tbody>\n",
       "    <tr>\n",
       "      <th>2004</th>\n",
       "      <td> 0</td>\n",
       "      <td> 503</td>\n",
       "      <td> 44.203364</td>\n",
       "    </tr>\n",
       "    <tr>\n",
       "      <th>2014</th>\n",
       "      <td> 0</td>\n",
       "      <td> 240</td>\n",
       "      <td> 34.231220</td>\n",
       "    </tr>\n",
       "  </tbody>\n",
       "</table>\n",
       "</div>"
      ],
      "text/plain": [
       "      min  max       mean\n",
       "2004    0  503  44.203364\n",
       "2014    0  240  34.231220"
      ]
     },
     "execution_count": 36,
     "metadata": {},
     "output_type": "execute_result"
    }
   ],
   "source": [
    "# Create a summary dataframe of the AQI data for the two years\n",
    "AQI = pd.DataFrame([d2004.describe().loc[['min', 'max', 'mean'], 'AQI'], \n",
    "                    d2014.describe().loc[['min', 'max', 'mean'], 'AQI']], ['2004', '2014'])\n",
    "AQI"
   ]
  },
  {
   "cell_type": "markdown",
   "metadata": {},
   "source": [
    "Just based on this cursory summary, it looks like there's been improvement over the last ten years, i.e., a reduction in the amount of PM 2.5 measured. But let's look deeper and make some graphs."
   ]
  },
  {
   "cell_type": "code",
   "execution_count": 88,
   "metadata": {
    "collapsed": false
   },
   "outputs": [
    {
     "data": {
      "image/png": "[encoded data removed]",
      "text/plain": [
       "<matplotlib.figure.Figure at 0x10e3b6790>"
      ]
     },
     "metadata": {},
     "output_type": "display_data"
    }
   ],
   "source": [
    "import matplotlib.pyplot as plt\n",
    "%matplotlib inline\n",
    "\n",
    "# Rather than use all the points, we'll group the data by state and county, then get the means.\n",
    "AQI_mean_2004 = d2004.groupby(['State Code', 'County Code']).aggregate(np.mean)\n",
    "AQI_mean_2014 = d2014.groupby(['State Code', 'County Code']).aggregate(np.mean)\n",
    "\n",
    "AQI_2004 = np.array(AQI_mean_2004[['AQI']])\n",
    "AQI_2014 = np.array(AQI_mean_2014[['AQI']])\n",
    "\n",
    "# Create a figure instance\n",
    "fig = plt.figure(1, figsize=(12, 8))\n",
    "ax = fig.add_subplot(111)\n",
    "\n",
    "# Create the boxplot\n",
    "boxprops = dict(linestyle='-', linewidth=2, color='#7570b3')\n",
    "medianprops = dict(linestyle='-.', color='#b2df8a', linewidth=2)\n",
    "capprops = dict(color='#7570b3', linewidth=2)\n",
    "flierprops = dict(marker='o', color='#e7298a', alpha=0.5)\n",
    "whiskerprops = dict(color='#7570b3', linewidth=2)\n",
    "meanpointprops = dict(marker='D', markeredgecolor='black',markerfacecolor='firebrick')\n",
    "\n",
    "bp = ax.boxplot([AQI_2004, AQI_2014], widths=.6,\n",
    "               boxprops=boxprops, flierprops=flierprops, \n",
    "               meanprops=meanpointprops, capprops=capprops,\n",
    "               whiskerprops=whiskerprops)\n",
    "ax.set_xticklabels(['2004', '2014'])\n",
    "\n",
    "plt.show()"
   ]
  },
  {
   "cell_type": "markdown",
   "metadata": {},
   "source": [
    "With the aggregated data, it looks like the pollutant levels have indeed gone down since 2004. However, there are two things to keep in mind:\n",
    "- Pollutant levels vary over the seasons, and tend to be higher in the winter.\n",
    "- Some states may have improved more than others.\n",
    "\n",
    "Let's first look at how levels of PM 2.5 vary over the course of the year, for both 2004 and 2014."
   ]
  },
  {
   "cell_type": "code",
   "execution_count": null,
   "metadata": {
    "collapsed": true
   },
   "outputs": [],
   "source": [
    "# First, separate out the date by months and days (in each dataframe the \n",
    "# year will be the same for all records)\n",
    "\n",
    "# Next, group by month and get the means.\n",
    "\n"
   ]
  }
 ],
 "metadata": {
  "kernelspec": {
   "display_name": "Python 2",
   "language": "python",
   "name": "python2"
  },
  "language_info": {
   "codemirror_mode": {
    "name": "ipython",
    "version": 2
   },
   "file_extension": ".py",
   "mimetype": "text/x-python",
   "name": "python",
   "nbconvert_exporter": "python",
   "pygments_lexer": "ipython2",
   "version": "2.7.10"
  }
 },
 "nbformat": 4,
 "nbformat_minor": 0
}
