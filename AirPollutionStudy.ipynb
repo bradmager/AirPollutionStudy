{
 "cells": [
  {
   "cell_type": "markdown",
   "metadata": {},
   "source": [
    "### Air Pollution Study Using EPA Data\n",
    "\n",
    "The study below looks at air quality in the U.S. between 2004 and 2014 using selected data from the EPA, available at http://aqsdr1.epa.gov/aqsweb/aqstmp/airdata/download_files.html. Specifically, we look at PM 2.5 data, which refers to particulate matter less than or equal to 2.5 microns in size, also called fine particle pollution.\n",
    "\n",
    "The goal is to see how pollution levels have changed during the period of interest, both nationwide and for individual states.\n"
   ]
  },
  {
   "cell_type": "code",
   "execution_count": 15,
   "metadata": {
    "collapsed": false
   },
   "outputs": [],
   "source": [
    "import numpy as np\n",
    "import pandas as pd\n",
    "\n",
    "# For 2004, starting at row 150656, the State Code switches from an integer to 'CC', \n",
    "# indicating Canada, so we need to skip those. For both years, we'll parse the\n",
    "# dates, which are at column 11.\n",
    "skip = range(150656, 150771)\n",
    "data2004 = pd.read_csv('Data/daily_88101_2004.csv', skiprows=skip, parse_dates=[11])\n",
    "data2014 = pd.read_csv('Data/daily_88101_2014.csv', parse_dates=[11])"
   ]
  },
  {
   "cell_type": "code",
   "execution_count": 30,
   "metadata": {
    "collapsed": false
   },
   "outputs": [],
   "source": [
    "# Create subsets of the data, with just the columns we care about.\n",
    "d2004 = data2004.loc[:, ['State Code','County Code','Site Num','Latitude','Longitude','Date Local', \\\n",
    "                 'AQI','State Name','County Name', 'City Name']]\n",
    "d2014 = data2014.loc[:, ['State Code','County Code','Site Num','Latitude','Longitude','Date Local', \\\n",
    "                 'AQI','State Name','County Name', 'City Name']]"
   ]
  },
  {
   "cell_type": "markdown",
   "metadata": {},
   "source": [
    "The feature we are most interested in is the Air Quality Index (AQI), recorded as an integer that ranges from 0 to greater than 300, measured in micrograms per cubic meter. Here is how the EPA defines the air quality for ranges of AQI:\n",
    "- 0–50: \"Good\"\n",
    "- 51–100: \"Moderate\"\n",
    "- 101–150: \"Unhealthy for Sensitive Groups\"\n",
    "- 151–200: \"Unhealthy\"\n",
    "- 201–300: \"Very Unhealthy\"\n",
    "- Above 300: \"Hazardous\"\n"
   ]
  },
  {
   "cell_type": "code",
   "execution_count": 35,
   "metadata": {
    "collapsed": false
   },
   "outputs": [
    {
     "data": {
      "text/html": [
       "<div style=\"max-height:1000px;max-width:1500px;overflow:auto;\">\n",
       "<table border=\"1\" class=\"dataframe\">\n",
       "  <thead>\n",
       "    <tr style=\"text-align: right;\">\n",
       "      <th></th>\n",
       "      <th>mean</th>\n",
       "      <th>min</th>\n",
       "      <th>max</th>\n",
       "    </tr>\n",
       "  </thead>\n",
       "  <tbody>\n",
       "    <tr>\n",
       "      <th>2004</th>\n",
       "      <td> 44.203364</td>\n",
       "      <td> 0</td>\n",
       "      <td> 503</td>\n",
       "    </tr>\n",
       "    <tr>\n",
       "      <th>2014</th>\n",
       "      <td> 34.231220</td>\n",
       "      <td> 0</td>\n",
       "      <td> 240</td>\n",
       "    </tr>\n",
       "  </tbody>\n",
       "</table>\n",
       "</div>"
      ],
      "text/plain": [
       "           mean  min  max\n",
       "2004  44.203364    0  503\n",
       "2014  34.231220    0  240"
      ]
     },
     "execution_count": 35,
     "metadata": {},
     "output_type": "execute_result"
    }
   ],
   "source": [
    "# Create a summary dataframe of the AQI data for the two years\n",
    "AQI = pd.DataFrame([d2004.describe().loc[['mean', 'min', 'max'], 'AQI'], \n",
    "                    d2014.describe().loc[['mean', 'min', 'max'], 'AQI']], ['2004', '2014'])\n",
    "AQI"
   ]
  },
  {
   "cell_type": "markdown",
   "metadata": {},
   "source": [
    "Just based on this cursory summary, it looks like there's been improvement over the last ten years. "
   ]
  }
 ],
 "metadata": {
  "kernelspec": {
   "display_name": "Python 2",
   "language": "python",
   "name": "python2"
  },
  "language_info": {
   "codemirror_mode": {
    "name": "ipython",
    "version": 2
   },
   "file_extension": ".py",
   "mimetype": "text/x-python",
   "name": "python",
   "nbconvert_exporter": "python",
   "pygments_lexer": "ipython2",
   "version": "2.7.10"
  }
 },
 "nbformat": 4,
 "nbformat_minor": 0
}
